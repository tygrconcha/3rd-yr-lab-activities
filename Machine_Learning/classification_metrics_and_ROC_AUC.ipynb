{
 "cells": [
  {
   "cell_type": "markdown",
   "id": "06b229a1-ea24-4d2c-944c-7fa69afa8939",
   "metadata": {},
   "source": [
    "# Laboratory 2: ML Preliminaries Part 1\n",
    "\n",
    "by Kristoffer Dave A. Tabong"
   ]
  },
  {
   "cell_type": "code",
   "execution_count": 16,
   "id": "0999fe90-02fe-4f81-8886-43eed6ab23d7",
   "metadata": {},
   "outputs": [],
   "source": [
    "### Import your libraries here. Don't use sklearn and other ML models.\n",
    "import numpy as np\n",
    "import pandas as pd\n",
    "import matplotlib.pyplot as plt"
   ]
  },
  {
   "cell_type": "markdown",
   "id": "86545002-3255-47f1-b613-383af801f322",
   "metadata": {},
   "source": [
    "### Question 1:\n",
    "\n",
    "Make a function, `confusion_matrix,` which will return an NxN array given a list of `y_actual` and `y_predicted` values. The rows represent the predicted values while the columns represent the actual values."
   ]
  },
  {
   "cell_type": "code",
   "execution_count": 17,
   "id": "54ca1ca8-3f02-4c5a-aec8-6dc0d93030b1",
   "metadata": {},
   "outputs": [],
   "source": [
    "def confusion_matrix(y_actual, y_predicted):\n",
    "    labels = np.unique(np.concatenate((y_actual, y_predicted)))\n",
    "    n = len(labels)\n",
    "    matrix = np.zeros((n, n), dtype=int)\n",
    "    label_to_index = {label: i for i, label in enumerate(labels)}\n",
    "\n",
    "    for actual, predicted in zip(y_actual, y_predicted):\n",
    "        matrix[label_to_index[predicted], label_to_index[actual]] += 1\n",
    "\n",
    "    return matrix"
   ]
  },
  {
   "cell_type": "code",
   "execution_count": 18,
   "id": "01c7959d-691f-4749-bf05-6ded4123c26c",
   "metadata": {},
   "outputs": [],
   "source": [
    "#ASSERT TEST. DO NOT DELETE\n",
    "y_actual    = [0, 1, 2, 0, 1, 2]\n",
    "y_predicted = [0, 2, 1, 0, 0, 1]\n",
    "conf_matrix = np.array([\n",
    "        [2, 1, 0],\n",
    "        [0, 0, 2],\n",
    "        [0, 1, 0]])\n",
    "np.testing.assert_array_equal(confusion_matrix(y_actual, y_predicted), conf_matrix)"
   ]
  },
  {
   "cell_type": "markdown",
   "id": "525c8317-119c-4c9b-a853-733fcc39cde1",
   "metadata": {},
   "source": [
    "### Question 2:\n",
    "\n",
    "Make a function, `accuracy,` which will return the model's accuracy, given the `confusion matrix` array."
   ]
  },
  {
   "cell_type": "code",
   "execution_count": 19,
   "id": "f34d3641-5ad3-4b3d-a36c-9f86fc8b63e5",
   "metadata": {},
   "outputs": [],
   "source": [
    "def accuracy(array):\n",
    "    correct_predictions = np.trace(array)\n",
    "    total_samples = np.sum(array)\n",
    "    if total_samples == 0:\n",
    "        return 0.0\n",
    "    \n",
    "    return correct_predictions / total_samples"
   ]
  },
  {
   "cell_type": "code",
   "execution_count": 20,
   "id": "17ec946f-bcb5-49ab-b109-914726887b52",
   "metadata": {},
   "outputs": [],
   "source": [
    "#ASSERT TEST. DO NOT DELETE\n",
    "conf_matrix = np.array([\n",
    "        [2, 1, 0],\n",
    "        [0, 0, 2],\n",
    "        [0, 1, 0]])\n",
    "\n",
    "np.testing.assert_allclose(accuracy(conf_matrix), 0.3333, rtol=1e-3)"
   ]
  },
  {
   "cell_type": "markdown",
   "id": "cbd7a362-a560-4160-9bcc-bcb9681b3bb2",
   "metadata": {},
   "source": [
    "### Question 3:\n",
    "\n",
    "Make a function, `precision_per_class,` which will return the precision value for each class."
   ]
  },
  {
   "cell_type": "code",
   "execution_count": 21,
   "id": "d28bcb35-aa1a-4abb-94be-b42ae5f662f2",
   "metadata": {},
   "outputs": [],
   "source": [
    "def precision_per_class(conf_matrix):\n",
    "    true_positives = np.diag(conf_matrix)\n",
    "    false_positives = np.sum(conf_matrix, axis=1) - true_positives\n",
    "    \n",
    "    precision = np.divide(true_positives, true_positives + false_positives,\n",
    "                          out=np.zeros_like(true_positives, dtype=float),\n",
    "                          where=(true_positives + false_positives) != 0)\n",
    "    \n",
    "    return precision"
   ]
  },
  {
   "cell_type": "code",
   "execution_count": 22,
   "id": "d78caeae-8016-4e1f-ad5f-ef099b00d188",
   "metadata": {},
   "outputs": [],
   "source": [
    "#ASSERT TEST. DO NOT DELETE\n",
    "conf_matrix = np.array([\n",
    "        [10,  2,  3],\n",
    "        [ 4, 20,  1],\n",
    "        [ 0,  3, 15]])\n",
    "\n",
    "np.testing.assert_allclose(precision_per_class(conf_matrix), [0.6667, 0.8, 0.833], rtol=1e-2)"
   ]
  },
  {
   "cell_type": "markdown",
   "id": "6e4a202f-e87c-466a-a6b2-1fd0a275b47a",
   "metadata": {},
   "source": [
    "### Question 4:\n",
    "\n",
    "Make a function, `recall_per_class,` which will return the precision value for each class."
   ]
  },
  {
   "cell_type": "code",
   "execution_count": 23,
   "id": "f2d3a2d9-d6c1-43f9-afe9-3de7e97aee57",
   "metadata": {},
   "outputs": [],
   "source": [
    "def recall_per_class(conf_matrix):\n",
    "    # Extract true positives (diagonal elements)\n",
    "    true_positives = np.diag(conf_matrix)\n",
    "    false_negatives = np.sum(conf_matrix, axis=0) - true_positives\n",
    "    \n",
    "    # Compute recall for each class\n",
    "    recall = np.divide(true_positives, true_positives + false_negatives, \n",
    "                         out=np.zeros_like(true_positives, dtype=float), \n",
    "                         where=(true_positives + false_negatives) != 0)\n",
    "    \n",
    "    return recall"
   ]
  },
  {
   "cell_type": "code",
   "execution_count": 24,
   "id": "ab9ab667-f792-47d5-be89-58808d59f09f",
   "metadata": {},
   "outputs": [],
   "source": [
    "#ASSERT TEST. DO NOT DELETE\n",
    "conf_matrix = np.array([\n",
    "        [10,  2,  3],\n",
    "        [ 4, 20,  1],\n",
    "        [ 0,  3, 15]])\n",
    "\n",
    "np.testing.assert_allclose(recall_per_class(conf_matrix), [0.714, 0.8, 0.789], rtol=1e-2)"
   ]
  },
  {
   "cell_type": "markdown",
   "id": "275b7189-94de-474b-8f60-30cb753748fe",
   "metadata": {},
   "source": [
    "### Question 5:\n",
    "\n",
    "Make a function, `macro_precision,` which will return the precision value of the model using macro averaging. Use the `precision_per_class` function."
   ]
  },
  {
   "cell_type": "code",
   "execution_count": 25,
   "id": "af1f0237-99f1-46fa-81d8-66c0aec25174",
   "metadata": {},
   "outputs": [],
   "source": [
    "def macro_precision(conf_matrix):\n",
    "    precisions = precision_per_class(conf_matrix)\n",
    "    return np.mean(precisions)"
   ]
  },
  {
   "cell_type": "code",
   "execution_count": 26,
   "id": "868016f6-98fa-4f72-a693-1c322f23b779",
   "metadata": {},
   "outputs": [],
   "source": [
    "#ASSERT TEST. DO NOT DELETE\n",
    "conf_matrix = np.array([\n",
    "        [10,  2,  3],\n",
    "        [ 4, 20,  1],\n",
    "        [ 0,  3, 15]])\n",
    "\n",
    "np.testing.assert_allclose(macro_precision(conf_matrix), 0.766, rtol=1e-2)"
   ]
  },
  {
   "cell_type": "markdown",
   "id": "685de94c-9218-4fee-b328-38f3ee173538",
   "metadata": {},
   "source": [
    "### Question 6:\n",
    "\n",
    "Make a function, `macro_recall,` which will return the recall value of the model using macro averaging. Use the `recall_per_class` function."
   ]
  },
  {
   "cell_type": "code",
   "execution_count": 27,
   "id": "289babca-797d-4be0-9810-65a577c02dfa",
   "metadata": {},
   "outputs": [],
   "source": [
    "def macro_recall(conf_matrix):\n",
    "    per_class_recalls = recall_per_class(conf_matrix)\n",
    "    return np.mean(per_class_recalls)"
   ]
  },
  {
   "cell_type": "code",
   "execution_count": 28,
   "id": "8d024973-3299-4a10-a95d-7d4ea08212c6",
   "metadata": {},
   "outputs": [],
   "source": [
    "#ASSERT TEST. DO NOT DELETE\n",
    "conf_matrix = np.array([\n",
    "        [10,  2,  3],\n",
    "        [ 4, 20,  1],\n",
    "        [ 0,  3, 15]])\n",
    "\n",
    "np.testing.assert_allclose(macro_recall(conf_matrix), 0.766, rtol=1e-2)"
   ]
  },
  {
   "cell_type": "markdown",
   "id": "81de8d25-804f-40aa-b61e-a9736547a58f",
   "metadata": {},
   "source": [
    "### Question 7:\n",
    "\n",
    "Make a function, `macro_f1score,` which will return the f1score value of the model using macro averaging. Use the `macro_recall` and `macro_precision` in the function."
   ]
  },
  {
   "cell_type": "code",
   "execution_count": 29,
   "id": "ade615b2-ce54-46b0-b676-98ecc033ee41",
   "metadata": {},
   "outputs": [],
   "source": [
    "#ASSERT TEST. DO NOT DELETE\n",
    "def macro_f1score(conf_matrix):\n",
    "    precision = macro_precision(conf_matrix)\n",
    "    recall = macro_recall(conf_matrix)\n",
    "    # Check to avoid division by zero\n",
    "    if precision + recall == 0:\n",
    "        return 0.0\n",
    "    return 2 * (precision * recall) / (precision + recall)\n"
   ]
  },
  {
   "cell_type": "code",
   "execution_count": 30,
   "id": "b607c3ac-c4f3-4db1-9497-1bf221ecf9da",
   "metadata": {},
   "outputs": [],
   "source": [
    "conf_matrix = np.array([\n",
    "        [10,  2,  3],\n",
    "        [ 4, 20,  1],\n",
    "        [ 0,  3, 15]])\n",
    "\n",
    "np.testing.assert_allclose(macro_f1score(conf_matrix), 0.766, rtol=1e-2)"
   ]
  },
  {
   "cell_type": "markdown",
   "id": "1b13e346-782b-4e5d-813a-01612f179f11",
   "metadata": {},
   "source": [
    "### Question 8:\n",
    "\n",
    "Make a function `label_binarize` that converts a `true_labels` list into a (n_sample, n_class) binary matrix. Given also the list of `classes`"
   ]
  },
  {
   "cell_type": "code",
   "execution_count": 31,
   "id": "624e49a1-28aa-40e8-a904-89d631a904db",
   "metadata": {},
   "outputs": [],
   "source": [
    "def label_binarize(true_labels, classes):\n",
    "    n_samples = len(true_labels)\n",
    "    n_classes = len(classes)\n",
    "    binarized = np.zeros((n_samples, n_classes), dtype=int)\n",
    "    class_to_index = {cls: idx for idx, cls in enumerate(classes)}\n",
    "    \n",
    "    # Set the corresponding index to 1 for each label in true_labels\n",
    "    for i, label in enumerate(true_labels):\n",
    "        if label in class_to_index:\n",
    "            binarized[i, class_to_index[label]] = 1\n",
    "    \n",
    "    return binarized"
   ]
  },
  {
   "cell_type": "code",
   "execution_count": 32,
   "id": "41b38e44-4675-46a3-bd32-6b950f3e812b",
   "metadata": {},
   "outputs": [],
   "source": [
    "#ASSERT TEST. DO NOT DELETE\n",
    "true_labels = np.array([1, 2, 1, 3])\n",
    "classes = [1, 2, 3, 4]\n",
    "\n",
    "expected = np.array([\n",
    "        [1, 0, 0, 0],\n",
    "        [0, 1, 0, 0], \n",
    "        [1, 0, 0, 0], \n",
    "        [0, 0, 1, 0]   \n",
    "    ])\n",
    "np.testing.assert_array_equal(label_binarize(true_labels, classes), expected)"
   ]
  },
  {
   "cell_type": "markdown",
   "id": "bc17ad1f-27b5-406f-a356-bc4c04520a32",
   "metadata": {},
   "source": [
    "### Question 9\n",
    "\n",
    "Make a function `compute_roc_curve` that generates the coordinates of False Positive Rate, `fpr` and True Positive Rate, `tpr` arrays given the `y_actual` values and the `probabilities` of the positive class."
   ]
  },
  {
   "cell_type": "code",
   "execution_count": 33,
   "id": "76fbbcde-8efe-48af-8bdd-643a9fe40682",
   "metadata": {},
   "outputs": [],
   "source": [
    "def compute_roc_curve(y_actual, probabilities):\n",
    "    y_actual = np.array(y_actual)\n",
    "    probabilities = np.array(probabilities)\n",
    "    P = np.sum(y_actual == 1)\n",
    "    N = np.sum(y_actual == 0)\n",
    "    \n",
    "    thresholds = np.sort(np.unique(probabilities))[::-1]\n",
    "    tpr_curve = []\n",
    "    fpr_curve = []\n",
    "    \n",
    "    tpr_curve.append(0.0)\n",
    "    fpr_curve.append(0.0)\n",
    "    \n",
    "    # Sweep through each threshold\n",
    "    for thresh in thresholds:\n",
    "        # Predict positive if probability >= threshold\n",
    "        y_pred = (probabilities >= thresh).astype(int)\n",
    "        TP = np.sum((y_actual == 1) & (y_pred == 1))\n",
    "        FP = np.sum((y_actual == 0) & (y_pred == 1))\n",
    "        tpr = TP / P if P > 0 else 0.0\n",
    "        fpr = FP / N if N > 0 else 0.0\n",
    "        tpr_curve.append(tpr)\n",
    "        fpr_curve.append(fpr)\n",
    "    \n",
    "    # End with a threshold below the minimum probability: all samples predicted positive\n",
    "    y_pred = np.ones_like(probabilities)\n",
    "    TP = np.sum((y_actual == 1) & (y_pred == 1))\n",
    "    FP = np.sum((y_actual == 0) & (y_pred == 1))\n",
    "    tpr = TP / P if P > 0 else 0.0\n",
    "    fpr = FP / N if N > 0 else 0.0\n",
    "    tpr_curve.append(tpr)\n",
    "    fpr_curve.append(fpr)\n",
    "    \n",
    "    return np.array(fpr_curve), np.array(tpr_curve)"
   ]
  },
  {
   "cell_type": "code",
   "execution_count": 34,
   "id": "34868d77-5b22-4572-bb06-9d8f26670698",
   "metadata": {},
   "outputs": [],
   "source": [
    "#ASSERT TEST. DON'T DELETE OR MODIFY\n",
    "y_true = np.array([0, 0, 1, 1])\n",
    "scores = np.array([0.1, 0.4, 0.35, 0.8])\n",
    "expected_fpr = np.array([0, 0, 0.5, 0.5, 1.0, 1.0])\n",
    "expected_tpr = np.array([0, 0.5, 0.5, 1.0, 1.0, 1.0])\n",
    "\n",
    "computed_fpr, computed_tpr = compute_roc_curve(y_true, scores)\n",
    "np.testing.assert_allclose(computed_fpr, expected_fpr, rtol=1e-5)\n",
    "np.testing.assert_allclose(computed_tpr, expected_tpr, rtol=1e-5)"
   ]
  },
  {
   "cell_type": "markdown",
   "id": "baede753-8466-40e9-9f27-63192791de0c",
   "metadata": {},
   "source": [
    "### Question 10\n",
    "\n",
    "    Compute for the AUC using trapezoidal rule given the list of `fpr` and `tpr` coordinates"
   ]
  },
  {
   "cell_type": "code",
   "execution_count": 35,
   "id": "dfe318c5-fe22-4055-b8b3-c2be1fe5e954",
   "metadata": {},
   "outputs": [],
   "source": [
    "def compute_auc(fpr, tpr):\n",
    "    fpr = np.array(fpr)\n",
    "    tpr = np.array(tpr)\n",
    "    \n",
    "    sorted_indices = np.argsort(fpr)\n",
    "    fpr_sorted = fpr[sorted_indices]\n",
    "    tpr_sorted = tpr[sorted_indices]\n",
    "    \n",
    "    # Compute AUC using the trapezoidal rule\n",
    "    auc = np.trapz(tpr_sorted, fpr_sorted)\n",
    "    return auc"
   ]
  },
  {
   "cell_type": "code",
   "execution_count": 36,
   "id": "567ba039-9071-419b-8fc9-87975dd6eb8a",
   "metadata": {},
   "outputs": [
    {
     "name": "stderr",
     "output_type": "stream",
     "text": [
      "C:\\Users\\althe\\AppData\\Local\\Temp\\ipykernel_15728\\2320781792.py:10: DeprecationWarning: `trapz` is deprecated. Use `trapezoid` instead, or one of the numerical integration functions in `scipy.integrate`.\n",
      "  auc = np.trapz(tpr_sorted, fpr_sorted)\n"
     ]
    }
   ],
   "source": [
    "#ASSERT. DONT DELETE\n",
    "expected_fpr = np.array([0, 0, 0.5, 0.5, 1.0, 1.0])\n",
    "expected_tpr = np.array([0, 0.5, 0.5, 1.0, 1.0, 1.0])\n",
    "auc_value = compute_auc(expected_fpr, expected_tpr)\n",
    "np.testing.assert_almost_equal(auc_value, 0.75, decimal=5)"
   ]
  },
  {
   "cell_type": "markdown",
   "id": "c296aee3-a749-4ba5-b093-2aedbf3738e6",
   "metadata": {},
   "source": [
    "### Question 11\n",
    "\n",
    "Make a function plot_auc_roc that will plot the ROC of each class given the following inputs:\n",
    "- (n_samples, n_classes): the array that specifies the probability of prediction per class\n",
    "- y_acutal: the actual labels of the samples\n",
    "- classes: list of the class labels\n",
    "\n",
    "The AUC (Area Under Curve) should be visible in the graph. Apply the function created on Question 8-10.\n",
    "\n",
    "**NOTE: DON'T USE SKLEARN. USE ONLY PYTHON NATIVE MODULES, NUMPY, and MATPLOTLIB**"
   ]
  },
  {
   "cell_type": "code",
   "execution_count": 37,
   "id": "3ac86bbf-6dbb-4e1a-a20e-69103c645130",
   "metadata": {},
   "outputs": [],
   "source": [
    "def plot_auc_roc(probabilities, true_labels, classes, title=\"Multiclass ROC Curve\"):\n",
    "    # Step 1: Binarize the true labels into a (n_samples, n_classes) binary matrix.\n",
    "    y_bin = label_binarize(true_labels, classes)\n",
    "    \n",
    "    roc_auc = {}\n",
    "\n",
    "    plt.figure(figsize=(8, 6))\n",
    "    \n",
    "    # Step 2 & 3: For each class, compute the ROC curve (FPR, TPR) and AUC.\n",
    "    for i, cls in enumerate(classes):\n",
    "        # For class i, get the binary true labels and predicted probabilities.\n",
    "        y_true_class = y_bin[:, i]\n",
    "        prob_class = probabilities[:, i]\n",
    "        \n",
    "        # Compute ROC curve\n",
    "        fpr, tpr = compute_roc_curve(y_true_class, prob_class)\n",
    "        \n",
    "        # Compute AUC using the trapezoidal rule\n",
    "        auc = compute_auc(fpr, tpr)\n",
    "        roc_auc[cls] = auc\n",
    "        \n",
    "        # Step 4: Plot the ROC\n",
    "        plt.plot(fpr, tpr, lw=2, label=f\"{cls} (AUC = {auc:.2f})\")\n",
    "    \n",
    "    # Micro-average ROC curve\n",
    "    y_micro = y_bin.ravel()\n",
    "    prob_micro = probabilities.ravel()\n",
    "    fpr_micro, tpr_micro = compute_roc_curve(y_micro, prob_micro)\n",
    "    auc_micro = compute_auc(fpr_micro, tpr_micro)\n",
    "    plt.plot(fpr_micro, tpr_micro, lw=2, color='#FF1493', linestyle='--', \n",
    "             label=f\"Micro-average (AUC = {auc_micro:.2f})\")\n",
    "    \n",
    "    # Plot a diagonal line for random guessing.\n",
    "    plt.plot([0, 1], [0, 1], 'k--', lw=2, label='Random Guess')\n",
    "    \n",
    "    # Step 5: plot.\n",
    "    plt.title(title)\n",
    "    plt.xlabel(\"False Positive Rate\")\n",
    "    plt.ylabel(\"True Positive Rate\")\n",
    "    plt.legend(loc=\"lower right\")\n",
    "    plt.grid(True)\n",
    "    plt.show()\n",
    "    \n",
    "    return roc_auc"
   ]
  },
  {
   "cell_type": "code",
   "execution_count": 38,
   "id": "ac3eb324-505b-481c-b195-4af1cc136b5e",
   "metadata": {},
   "outputs": [
    {
     "name": "stderr",
     "output_type": "stream",
     "text": [
      "C:\\Users\\althe\\AppData\\Local\\Temp\\ipykernel_15728\\2320781792.py:10: DeprecationWarning: `trapz` is deprecated. Use `trapezoid` instead, or one of the numerical integration functions in `scipy.integrate`.\n",
      "  auc = np.trapz(tpr_sorted, fpr_sorted)\n"
     ]
    },
    {
     "data": {
      "image/png": "[encoded data removed]",
      "text/plain": [
       "<Figure size 800x600 with 1 Axes>"
      ]
     },
     "metadata": {},
     "output_type": "display_data"
    },
    {
     "data": {
      "text/plain": [
       "{0: np.float64(0.7727272727272727),\n",
       " 1: np.float64(0.7916666666666666),\n",
       " 2: np.float64(0.8571428571428571)}"
      ]
     },
     "execution_count": 38,
     "metadata": {},
     "output_type": "execute_result"
    }
   ],
   "source": [
    "#ASSERT\n",
    "classes = [0, 1, 2]\n",
    "true_labels = np.array([1, 2, 1, 1, 2, 2, 2, 1, 1, 2, 1, 0])\n",
    "probabilities = np.array([\n",
    "    [0.05, 0.85, 0.10],  \n",
    "    [0.10, 0.20, 0.70],  \n",
    "    [0.60, 0.20, 0.20], \n",
    "    [0.15, 0.75, 0.10],  \n",
    "    [0.05, 0.25, 0.70], \n",
    "    [0.05, 0.15, 0.80],  \n",
    "    [0.80, 0.10, 0.10], \n",
    "    [0.10, 0.80, 0.10],\n",
    "    [0.70, 0.15, 0.15], \n",
    "    [0.10, 0.60, 0.30], \n",
    "    [0.20, 0.70, 0.10], \n",
    "    [0.60, 0.20, 0.20]  \n",
    "])\n",
    "plot_auc_roc(probabilities, true_labels, classes)"
   ]
  }
 ],
 "metadata": {
  "kernelspec": {
   "display_name": "Python 3",
   "language": "python",
   "name": "python3"
  },
  "language_info": {
   "codemirror_mode": {
    "name": "ipython",
    "version": 3
   },
   "file_extension": ".py",
   "mimetype": "text/x-python",
   "name": "python",
   "nbconvert_exporter": "python",
   "pygments_lexer": "ipython3",
   "version": "3.13.2"
  }
 },
 "nbformat": 4,
 "nbformat_minor": 5
}
